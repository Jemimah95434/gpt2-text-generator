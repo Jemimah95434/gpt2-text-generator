{
 "cells": [
  {
   "cell_type": "markdown",
   "metadata": {},
   "source": [
    "# 🤖 Generative Text Model using GPT-2\n",
    "\n",
    "This notebook demonstrates how to generate coherent text using a pre-trained GPT-2 model from the Hugging Face Transformers library. You can input a custom prompt and let the model complete it intelligently."
   ]
  },
  {
   "cell_type": "code",
   "execution_count": null,
   "metadata": {},
   "outputs": [],
   "source": [
    "# Install necessary libraries (uncomment if running for the first time)\n",
    "# !pip install transformers torch"
   ]
  },
  {
   "cell_type": "code",
   "execution_count": 1,
   "metadata": {},
   "outputs": [
    {
     "name": "stderr",
     "output_type": "stream",
     "text": [
      "Device set to use cuda:0\n"
     ]
    }
   ],
   "source": [
    "from transformers import pipeline\n",
    "\n",
    "# Load pre-trained GPT-2 model\n",
    "generator = pipeline(\"text-generation\", model=\"gpt2\")"
   ]
  },
  {
   "cell_type": "markdown",
   "metadata": {},
   "source": [
    "## ✏️ Enter Your Prompt Below"
   ]
  },
  {
   "cell_type": "code",
   "execution_count": 6,
   "metadata": {},
   "outputs": [
    {
     "name": "stderr",
     "output_type": "stream",
     "text": [
      "Setting `pad_token_id` to `eos_token_id`:50256 for open-end generation.\n",
      "Both `max_new_tokens` (=256) and `max_length`(=100) seem to have been set. `max_new_tokens` will take precedence. Please refer to the documentation for more information. (https://huggingface.co/docs/transformers/main/en/main_classes/text_generation)\n"
     ]
    },
    {
     "name": "stdout",
     "output_type": "stream",
     "text": [
      "\n",
      "🔽 Generated Text:\n",
      "\n",
      "What are the challenges in training large language models?\n",
      "\n",
      "We are working with a lot of different people and making sure we integrate the training into the system. We are working with a lot of different departments to develop algorithms that can be used in training large language models. This is also the first time that we have found a way of training large-scale language models. It's a real challenge because there are so many different types of models in the world and they all take different forms.\n",
      "\n",
      "How far have you been able to learn to use a large-scale language model?\n",
      "\n",
      "We've been able to use this tool even more than with a few other tools. It's become really easy for us to use languages on the web. We've been able to use the framework of our own training toolbox that we developed ourselves.\n",
      "\n",
      "Are there any big challenges that you foresee in this process?\n",
      "\n",
      "We still have a ton of work to do. We need to figure out how to take advantage of the tools that we have that are available over the internet. We are working with a lot of teams that are looking into this to see how we can help them.\n",
      "\n",
      "Is it possible to use the same language for a large-scale training of large-scale languages as we do for our own training\n"
     ]
    }
   ],
   "source": [
    "# Example prompt\n",
    "prompt = \"What are the challenges in training large language models?\"\n",
    "\n",
    "# Generate text\n",
    "result = generator(prompt, max_length=100, num_return_sequences=1)\n",
    "\n",
    "# Show output\n",
    "print(\"\\n🔽 Generated Text:\\n\")\n",
    "print(result[0]['generated_text'])"
   ]
  },
  {
   "cell_type": "markdown",
   "metadata": {},
   "source": [
    "## 📝 Observations:\n",
    "- The model completes your prompt with realistic and grammatically correct text.\n",
    "- It uses language and context learned from large datasets.\n",
    "- You can experiment with different prompts to explore creativity and coherence."
   ]
  }
 ],
 "metadata": {
  "kernelspec": {
   "display_name": "Python 3 (ipykernel)",
   "language": "python",
   "name": "python3"
  },
  "language_info": {
   "codemirror_mode": {
    "name": "ipython",
    "version": 3
   },
   "file_extension": ".py",
   "mimetype": "text/x-python",
   "name": "python",
   "nbconvert_exporter": "python",
   "pygments_lexer": "ipython3",
   "version": "3.12.3"
  }
 },
 "nbformat": 4,
 "nbformat_minor": 4
}
